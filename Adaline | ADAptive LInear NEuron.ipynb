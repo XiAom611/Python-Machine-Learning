{
 "cells": [
  {
   "cell_type": "markdown",
   "metadata": {},
   "source": [
    "# Adaptive Linear Neurons"
   ]
  },
  {
   "cell_type": "markdown",
   "metadata": {},
   "source": [
    "### Adaline was published, only a few years after Frank Rosenblatt's perceptron algorithm, by Bernard Widrow and his doctoral student Tedd Hoff, and can be considered as an improvement on the latter (B. Widrow et al. Adaptive \"Adaline\" neuron using chemical \"memistors\". Number Technical Report 1553-2. Stanford Electron. Labs. Stanford, CA, October 1960). The Adaline algorithm is particularly interesting because it illustrates the key concept of defining and minimizing cost functions, which will lay the groundwork for understanding more advanced machine learning algorithms for classification, such as logistic regression and support vector machines, as well as regression models.\n",
    "Raschka, Sebastian (2015-09-23). Python Machine Learning (p. 33). Packt Publishing. Kindle Edition. \n",
    "\n",
    "### The key difference between the Adaline rule (also known as the Widrow-Hoff rule) and Rosenblatt's perceptron is that the weights are updated based on a linear activation function rather than a unit step function like in the perceptron.\n",
    "Raschka, Sebastian (2015-09-23). Python Machine Learning (p. 33). Packt Publishing. Kindle Edition.\n",
    "\n",
    "### One of the key ingredients of supervised machine learning algorithms is to define an objective function that is to be optimized during the learning process. This objective function is often a cost function that we want to minimize. In the case of Adaline, we can define the cost function to learn the weights as the Sum of Squared Errors (SSE) between the calculated outcome and the true class label.\n",
    "\n",
    "Raschka, Sebastian (2015-09-23). Python Machine Learning (p. 34). Packt Publishing. Kindle Edition. "
   ]
  },
  {
   "cell_type": "markdown",
   "metadata": {},
   "source": [
    "## Implementing an Adaptive Linear Neuron"
   ]
  },
  {
   "cell_type": "code",
   "execution_count": 20,
   "metadata": {
    "collapsed": true
   },
   "outputs": [],
   "source": [
    "%matplotlib inline\n",
    "import matplotlib.pyplot as plt\n",
    "import numpy as np\n",
    "import pandas as pd"
   ]
  },
  {
   "cell_type": "code",
   "execution_count": 25,
   "metadata": {
    "collapsed": false
   },
   "outputs": [],
   "source": [
    "# the perceptron rule and Adaline are similar enough to replicate the perceptron implementation with a\n",
    "# change to the fit method for the gradient descent minimizing of the cost function weight update\n",
    "\n",
    "class AdalineGD(object):\n",
    "    '''\n",
    "    ADAptive LInear NEuron classifier\n",
    "    \n",
    "    Parameters\n",
    "    ----------\n",
    "    eta : float\n",
    "        Learning rate (between 0.0 and 1.0)\n",
    "    n_iter : int\n",
    "        Passes over the training dataset\n",
    "        \n",
    "    Attributes\n",
    "    ----------\n",
    "    w_ : 1d-array\n",
    "        Weights after fitting\n",
    "    errors_ : list\n",
    "        Number of misclassification in every epoch\n",
    "    '''\n",
    "    \n",
    "    def __init__(self, eta=0.01, n_iter=50):\n",
    "        self.eta = eta\n",
    "        self.n_iter = n_iter\n",
    "    \n",
    "    def net_input(self, X):\n",
    "        '''Calculate net input'''\n",
    "        return np.dot(X, self.w_[1:]) + self.w_[0]\n",
    "        \n",
    "    def fit(self, X, y):\n",
    "        '''\n",
    "        Fit training data\n",
    "        \n",
    "        Parameters\n",
    "        ----------\n",
    "        X : {array-like}, shape = [n_samples, n_features]\n",
    "            Training vectors,\n",
    "            where n_samples is the number of samples and\n",
    "            n_features is the number of features\n",
    "            \n",
    "        y : array-like, shape = [n_samples]\n",
    "            Target values\n",
    "            \n",
    "        Returns\n",
    "        -------\n",
    "        self : object\n",
    "        '''\n",
    "        \n",
    "        self.w_ = np.zeros(1 + X.shape[1])\n",
    "        self.cost_ = []\n",
    "        for i in range(self.n_iter):\n",
    "            output = self.net_input(X)\n",
    "            errors = (y - output)\n",
    "            self.w_[1:] += self.eta * X.T.dot(errors)\n",
    "            self.w_[0] += self.eta * errors.sum()\n",
    "            cost = (errors**2).sum()/2.0\n",
    "            self.cost_.append(cost)\n",
    "        return self\n",
    "    \n",
    "        def activation(self, X):\n",
    "            '''Compute linear activation'''\n",
    "            return self.net_input(X)\n",
    "        \n",
    "        def predict(self, X):\n",
    "            '''Return class label after unit step'''\n",
    "            return np.where(self.activation(X) >= 0.0, 1, -1)"
   ]
  },
  {
   "cell_type": "markdown",
   "metadata": {},
   "source": [
    "### Instead of updating the weights after evaluating each individual training sample, as in the perceptron, we calculate the gradient based on the whole training dataset via self.eta * errors.sum() for the zero-weight and via self.eta * X.T.dot( errors) for the weights 1 to where X.T.dot( errors) is a matrix-vector multiplication between our feature matrix and the error vector. Similar to the previous perceptron implementation, we collect the cost values in a list self.cost_ to check if the algorithm converged after training.\n",
    "\n",
    "Raschka, Sebastian (2015-09-23). Python Machine Learning (p. 38). Packt Publishing. Kindle Edition. "
   ]
  },
  {
   "cell_type": "code",
   "execution_count": 27,
   "metadata": {
    "collapsed": false
   },
   "outputs": [
    {
     "data": {
      "image/png": "[encoded data removed]",
      "text/plain": [
       "<matplotlib.figure.Figure at 0x117834f28>"
      ]
     },
     "metadata": {},
     "output_type": "display_data"
    }
   ],
   "source": [
    "#In practice, it often requires some experimentation to find a good learning rate for optimal convergence.\n",
    "#So, let's choose two different learning rates and to start with and plot the cost functions versus the \n",
    "#number of epochs to see how well the Adaline implementation learns from the training data.\n",
    "#Raschka, Sebastian (2015-09-23). Python Machine Learning (pp. 38-39). Packt Publishing. Kindle Edition.\n",
    "\n",
    "\n",
    "df = pd.read_csv('https://archive.ics.uci.edu/ml/machine-learning-databases/iris/iris.data', header=None)\n",
    "y=df.iloc[0:100,4].values\n",
    "y=np.where(y=='Iris-setosa',-1,1)\n",
    "X=df.iloc[0:100, [0,2]].values\n",
    "\n",
    "fig, ax = plt.subplots(nrows=1, ncols=2, figsize=(8,4))\n",
    "adal = AdalineGD(n_iter=10, eta=0.01).fit(X,y)\n",
    "ax[0].plot(range(1, len(adal.cost_)+1), np.log10(adal.cost_), marker='o')\n",
    "ax[0].set_xlabel('Epochs')\n",
    "ax[0].set_ylabel('log(Sum-squared-error)')\n",
    "ax[0].set_title('Adaline - Learning rate 0.01')\n",
    "ada2 = AdalineGD(n_iter=10, eta=0.0001).fit(X,y)\n",
    "ax[1].plot(range(1, len(ada2.cost_)+1), ada2.cost_, marker='o')\n",
    "ax[1].set_xlabel('Epochs')\n",
    "ax[1].set_ylabel('Sum-squared-error')\n",
    "ax[1].set_title('Adaline - Learning rate 0.0001')\n",
    "plt.show()"
   ]
  },
  {
   "cell_type": "markdown",
   "metadata": {},
   "source": [
    "#### The figure on the left shows the result of a too large learning rate - the error increases with each iteration because the learning rate over-shoots the global minimum.  On the right, the result of the minute learning rate produces diminishing error, but the many iterations needed is inefficient."
   ]
  },
  {
   "cell_type": "markdown",
   "metadata": {},
   "source": [
    "### Standardization of the Data Set to Normalize Distribution"
   ]
  },
  {
   "cell_type": "code",
   "execution_count": null,
   "metadata": {
    "collapsed": true
   },
   "outputs": [],
   "source": []
  }
 ],
 "metadata": {
  "kernelspec": {
   "display_name": "Python 3",
   "language": "python",
   "name": "python3"
  },
  "language_info": {
   "codemirror_mode": {
    "name": "ipython",
    "version": 3
   },
   "file_extension": ".py",
   "mimetype": "text/x-python",
   "name": "python",
   "nbconvert_exporter": "python",
   "pygments_lexer": "ipython3",
   "version": "3.5.1"
  }
 },
 "nbformat": 4,
 "nbformat_minor": 0
}
